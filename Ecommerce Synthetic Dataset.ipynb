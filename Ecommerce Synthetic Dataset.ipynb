{
  "nbformat": 4,
  "nbformat_minor": 0,
  "metadata": {
    "colab": {
      "provenance": [],
      "authorship_tag": "ABX9TyPCj8Jxhd9VpvZMa9prP1Eo",
      "include_colab_link": true
    },
    "kernelspec": {
      "name": "python3",
      "display_name": "Python 3"
    },
    "language_info": {
      "name": "python"
    }
  },
  "cells": [
    {
      "cell_type": "markdown",
      "metadata": {
        "id": "view-in-github",
        "colab_type": "text"
      },
      "source": [
        "<a href=\"https://colab.research.google.com/github/Sayali19-cell/Dataset/blob/main/Ecommerce%20Synthetic%20Dataset.ipynb\" target=\"_parent\"><img src=\"https://colab.research.google.com/assets/colab-badge.svg\" alt=\"Open In Colab\"/></a>"
      ]
    },
    {
      "cell_type": "code",
      "source": [
        "import pandas as pd\n",
        "import numpy as np\n",
        "import random\n",
        "from datetime import datetime, timedelta\n",
        "\n",
        "# Parameters\n",
        "num_records = 10000  # Number of records in the dataset\n",
        "\n",
        "def random_date(start, end):\n",
        "    return start + timedelta(days=random.randint(0, (end - start).days))\n",
        "\n",
        "def generate_synthetic_data(num_records):\n",
        "    # Date range for order dates\n",
        "    start_date = datetime(2023, 1, 1)\n",
        "    end_date = datetime(2024, 12, 31)\n",
        "\n",
        "    # Generate raw data\n",
        "    order_dates = [random_date(start_date, end_date) for _ in range(num_records)]\n",
        "    return_dates = [random_date(start_date, end_date) if random.choice([True, False]) else '' for _ in range(num_records)]\n",
        "\n",
        "    data = {\n",
        "        'Order_ID': [f'ORD{str(i).zfill(8)}' for i in range(num_records)],\n",
        "        'Product_ID': [f'PROD{str(i).zfill(8)}' for i in range(num_records)],\n",
        "        'User_ID': [f'USER{str(i).zfill(8)}' for i in range(num_records)],\n",
        "        'Order_Date': [date.strftime('%Y-%m-%d') for date in order_dates],\n",
        "        'Return_Date': [date.strftime('%Y-%m-%d') if return_date else '' for return_date in return_dates],\n",
        "        'Product_Category': [random.choice(['Electronics', 'Clothing', 'Home', 'Books', 'Toys']) for _ in range(num_records)],\n",
        "        'Product_Price': [round(random.uniform(5, 500), 2) for _ in range(num_records)],\n",
        "        'Order_Quantity': [random.randint(1, 5) for _ in range(num_records)],\n",
        "        'Return_Reason': [random.choice(['Defective', 'Not as described', 'Wrong item', 'Changed mind']) if return_date else '' for return_date in return_dates],\n",
        "        'Return_Status': ['Returned' if return_date else 'Not Returned' for return_date in return_dates],\n",
        "        'Days_to_Return': [(pd.to_datetime(return_date) - pd.to_datetime(order_date)).days if return_date else np.nan\n",
        "                           for order_date, return_date in zip(order_dates, return_dates)],\n",
        "        'User_Age': [random.randint(18, 70) for _ in range(num_records)],\n",
        "        'User_Gender': [random.choice(['Male', 'Female']) for _ in range(num_records)],\n",
        "        'User_Location': [f'City{random.randint(1, 100)}' for _ in range(num_records)],\n",
        "        'Payment_Method': [random.choice(['Credit Card', 'Debit Card', 'PayPal', 'Gift Card']) for _ in range(num_records)],\n",
        "        'Shipping_Method': [random.choice(['Standard', 'Express', 'Next-Day']) for _ in range(num_records)],\n",
        "        'Discount_Applied': [round(random.uniform(0, 50), 2) for _ in range(num_records)]\n",
        "    }\n",
        "\n",
        "    df = pd.DataFrame(data)\n",
        "    return df"
      ],
      "metadata": {
        "id": "1QaEmRd_mIlw"
      },
      "execution_count": 4,
      "outputs": []
    },
    {
      "cell_type": "code",
      "source": [
        "import pandas as pd\n",
        "import numpy as np\n",
        "import random\n",
        "from datetime import datetime, timedelta\n",
        "\n",
        "# Parameters\n",
        "num_records = 10000  # Number of records in the dataset\n",
        "\n",
        "def random_date(start, end):\n",
        "    return start + timedelta(days=random.randint(0, (end - start).days))\n",
        "\n",
        "def generate_synthetic_data(num_records):\n",
        "    # Date range for order dates\n",
        "    start_date = datetime(2023, 1, 1)\n",
        "    end_date = datetime(2024, 12, 31)\n",
        "\n",
        "    # Generate raw data\n",
        "    order_dates = [random_date(start_date, end_date) for _ in range(num_records)]\n",
        "    return_dates = [random_date(start_date, end_date) if random.choice([True, False]) else '' for _ in range(num_records)]\n",
        "\n",
        "    data = {\n",
        "        'Order_ID': [f'ORD{str(i).zfill(8)}' for i in range(num_records)],\n",
        "        'Product_ID': [f'PROD{str(i).zfill(8)}' for i in range(num_records)],\n",
        "        'User_ID': [f'USER{str(i).zfill(8)}' for i in range(num_records)],\n",
        "        'Order_Date': [date.strftime('%Y-%m-%d') for date in order_dates],\n",
        "        'Return_Date': [return_date.strftime('%Y-%m-%d') if return_date else '' for return_date in return_dates],\n",
        "        'Product_Category': [random.choice(['Electronics', 'Clothing', 'Home', 'Books', 'Toys']) for _ in range(num_records)],\n",
        "        'Product_Price': [round(random.uniform(5, 500), 2) for _ in range(num_records)],\n",
        "        'Order_Quantity': [random.randint(1, 5) for _ in range(num_records)],\n",
        "        'Return_Reason': [random.choice(['Defective', 'Not as described', 'Wrong item', 'Changed mind']) if return_date else '' for return_date in return_dates],\n",
        "        'Return_Status': ['Returned' if return_date else 'Not Returned' for return_date in return_dates],\n",
        "        'Days_to_Return': [(pd.to_datetime(return_date) - pd.to_datetime(order_date)).days if return_date else np.nan\n",
        "                           for order_date, return_date in zip(order_dates, return_dates)],\n",
        "        'User_Age': [random.randint(18, 70) for _ in range(num_records)],\n",
        "        'User_Gender': [random.choice(['Male', 'Female']) for _ in range(num_records)],\n",
        "        'User_Location': [f'City{random.randint(1, 100)}' for _ in range(num_records)],\n",
        "        'Payment_Method': [random.choice(['Credit Card', 'Debit Card', 'PayPal', 'Gift Card']) for _ in range(num_records)],\n",
        "        'Shipping_Method': [random.choice(['Standard', 'Express', 'Next-Day']) for _ in range(num_records)],\n",
        "        'Discount_Applied': [round(random.uniform(0, 50), 2) for _ in range(num_records)]\n",
        "    }\n",
        "\n",
        "    df = pd.DataFrame(data)\n",
        "    return df"
      ],
      "metadata": {
        "id": "GT4Xtme3mdBD"
      },
      "execution_count": 6,
      "outputs": []
    },
    {
      "cell_type": "code",
      "source": [
        "# Generate the dataset\n",
        "df = generate_synthetic_data(num_records)\n",
        "\n",
        "# Save the dataset to a CSV file\n",
        "df.to_csv('ecommerce_returns_synthetic_data.csv', index=False)\n",
        "\n",
        "print(\"Synthetic dataset generated and saved to 'ecommerce_returns_synthetic_data.csv'\")"
      ],
      "metadata": {
        "colab": {
          "base_uri": "https://localhost:8080/"
        },
        "id": "HGZzMxgOmueF",
        "outputId": "df95c7d1-1684-4bc4-a8c1-5da7886e2066"
      },
      "execution_count": 7,
      "outputs": [
        {
          "output_type": "stream",
          "name": "stdout",
          "text": [
            "Synthetic dataset generated and saved to 'ecommerce_returns_synthetic_data.csv'\n"
          ]
        }
      ]
    },
    {
      "cell_type": "code",
      "source": [],
      "metadata": {
        "id": "4lzIEypkmxKw"
      },
      "execution_count": null,
      "outputs": []
    }
  ]
}